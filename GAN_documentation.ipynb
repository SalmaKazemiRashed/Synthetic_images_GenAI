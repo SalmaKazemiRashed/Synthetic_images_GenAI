{
 "cells": [
  {
   "cell_type": "markdown",
   "id": "c9914da6-5062-4589-a927-55ae0a95697e",
   "metadata": {},
   "source": [
    "This project is for generating cell channel of a fluorescence microscopy dataset from nuclei channel due to a batch of missing data.\n",
    "\n",
    "The data is shared in Zenodo and the following paper describes the dataset nuclei channel.\n",
    "\n",
    "https://www.sciencedirect.com/science/article/pii/S2352340922009726"
   ]
  },
  {
   "cell_type": "code",
   "execution_count": null,
   "id": "f1ad504c-8c6b-46e6-aebb-952a84bc3bdd",
   "metadata": {},
   "outputs": [],
   "source": [
    "For this project, first bunch of UNet and GAN models are trained. FOr improving Unet models, complicated loss fucntion, adding Learning rate schedule \n",
    "and deeper models were investigated.\n",
    "UNets are just used for simple Image to Image (I2I) purposes.\n",
    "Two UNet models are described here. Preprocessing code as well as models and training function is developed here. \n",
    "At the end by calling saved model, predictions are visualized i\n",
    "\n",
    "\n"
   ]
  }
 ],
 "metadata": {
  "kernelspec": {
   "display_name": "Python 3 (ipykernel)",
   "language": "python",
   "name": "python3"
  },
  "language_info": {
   "codemirror_mode": {
    "name": "ipython",
    "version": 3
   },
   "file_extension": ".py",
   "mimetype": "text/x-python",
   "name": "python",
   "nbconvert_exporter": "python",
   "pygments_lexer": "ipython3",
   "version": "3.9.18"
  }
 },
 "nbformat": 4,
 "nbformat_minor": 5
}
